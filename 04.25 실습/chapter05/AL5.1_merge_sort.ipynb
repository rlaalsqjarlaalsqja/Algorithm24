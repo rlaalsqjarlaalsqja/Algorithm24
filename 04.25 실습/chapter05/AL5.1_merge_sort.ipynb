{
 "cells": [
  {
   "cell_type": "markdown",
   "metadata": {},
   "source": [
    "1. 병합정렬"
   ]
  },
  {
   "cell_type": "markdown",
   "metadata": {},
   "source": [
    "2. 하나의 리스트를같은 크기의 두 개의 부분 리스트로 분할하고, 분할된 부분 리스트를 정렬한 다음, 정렬된 리스트를 병합하는 전략을 사용한다."
   ]
  },
  {
   "cell_type": "markdown",
   "metadata": {},
   "source": [
    "3."
   ]
  },
  {
   "cell_type": "code",
   "execution_count": null,
   "metadata": {},
   "outputs": [],
   "source": [
    "4.def merge_sort(A, left, right) :      #A[left.right]를 오름차순으로 정렬 \n",
    "    if left<right :                     #항목이 2개 이상인 경우\n",
    "        mid = (left + right) // 2       #리스트의 균등 분할\n",
    "        merge_sort(A, left, mid)        #부분리스트정렬\n",
    "        merge_sort(A, mid + 1, right)   #부분리스트정렬\n",
    "        merge(A, left, mid, right)      #병합"
   ]
  },
  {
   "cell_type": "code",
   "execution_count": null,
   "metadata": {},
   "outputs": [],
   "source": [
    "def merge_sort(A, left, right) :\n",
    "    if left<right :\n",
    "        mid = (left + right) // 2\n",
    "        merge_sort(A, left, mid)\n",
    "        merge_sort(A, mid + 1, right)\n",
    "        merge(A, left, mid, right)"
   ]
  },
  {
   "cell_type": "code",
   "execution_count": null,
   "metadata": {},
   "outputs": [],
   "source": [
    "data = [9, 5, 7, 8, 2, 3, 4, 1, 6]\n",
    "sorted = [0] * len(data)\n",
    "print(\"Original : \", data)\n",
    "merge_sort(data, 0, len(data)-1)\n",
    "print(\"MergeSort :\", data)"
   ]
  },
  {
   "attachments": {
    "image.png": {
     "image/png": "[encoded data removed]"
    }
   },
   "cell_type": "markdown",
   "metadata": {},
   "source": [
    "![image.png](attachment:image.png)"
   ]
  },
  {
   "cell_type": "markdown",
   "metadata": {},
   "source": [
    "8. 복잡도 분석  \n",
    "O(nlog2n)"
   ]
  },
  {
   "cell_type": "markdown",
   "metadata": {},
   "source": []
  }
 ],
 "metadata": {
  "language_info": {
   "name": "python"
  }
 },
 "nbformat": 4,
 "nbformat_minor": 2
}
