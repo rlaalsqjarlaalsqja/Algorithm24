{
 "cells": [
  {
   "cell_type": "markdown",
   "metadata": {},
   "source": [
    "1. 병합 알고리즘(정렬된 두 리스트의 병합)"
   ]
  },
  {
   "cell_type": "markdown",
   "metadata": {},
   "source": [
    "2. 하나의 리스트를같은 크기의 두 개의 부분 리스트로 분할하고, 분할된 부분 리스트를 정렬한 다음, 정렬된 리스트를 병합하는 전략을 사용한다."
   ]
  },
  {
   "cell_type": "markdown",
   "metadata": {},
   "source": [
    "3."
   ]
  },
  {
   "cell_type": "code",
   "execution_count": null,
   "metadata": {},
   "outputs": [],
   "source": [
    "def merge(A, left, mid, right) :                    \n",
    "    k = left                                        #병합을 위한 임시 리시트의 인덱스\n",
    "    i = left                                        #왼쪽 리스트의 인덱스\n",
    "    j = mid + 1                                     #오른쪽 리스트의 인덱스\n",
    "    while i<=mid and j<=right :                     \n",
    "      if A[i] <= A[j] :                             #기본 연산\n",
    "         sorted[k] = A[i]\n",
    "         i, k = i+1, k+1\n",
    "      else:\n",
    "          sorted[k] = A[j]\n",
    "          j, k = j+1, k+1\n",
    "    \n",
    "    if i > mid :                                    #한쪽에 남아 있는 레코드의 일괄 복사\n",
    "        sorted[k:k+right-j+1] = A[j:right+1]        #리스트의 슬라이싱 이용\n",
    "    else :\n",
    "        sorted[k:k+mid-i+1] = A[i:mid+1]            #리스트의 슬라이싱 이용\n",
    "        \n",
    "    A[left:right+1] = sorted[left:right+1]          #sorted를 A에 다시 복사"
   ]
  },
  {
   "cell_type": "code",
   "execution_count": null,
   "metadata": {},
   "outputs": [],
   "source": [
    "def merge(A, left, mid, right) :\n",
    "    k = left\n",
    "    i = left\n",
    "    j = mid + 1\n",
    "    while i<=mid and j<=right :\n",
    "      if A[i] <= A[j] :\n",
    "         sorted[k] = A[i]\n",
    "         i, k = i+1, k+1\n",
    "      else:\n",
    "          sorted[k] = A[j]\n",
    "          j, k = j+1, k+1\n",
    "    \n",
    "    if i > mid :\n",
    "        sorted[k:k+right-j+1] = A[j:right+1]\n",
    "    else :\n",
    "        sorted[k:k+mid-i+1] = A[i:mid+1]\n",
    "        \n",
    "    A[left:right+1] = sorted[left:right+1]"
   ]
  },
  {
   "cell_type": "code",
   "execution_count": null,
   "metadata": {},
   "outputs": [],
   "source": [
    "data = [8, 6, 7, 9, 4, 3, 2, 1, 5]\n",
    "sorted = [0] * len(data)\n",
    "print(\"Original : \", data)\n",
    "merge_sort(data, 0, len(data)-1)\n",
    "print(\"MergeSort :\", data)"
   ]
  },
  {
   "attachments": {
    "image.png": {
     "image/png": "[encoded data removed]"
    }
   },
   "cell_type": "markdown",
   "metadata": {},
   "source": [
    "![image.png](attachment:image.png)"
   ]
  },
  {
   "cell_type": "markdown",
   "metadata": {},
   "source": [
    "8. 복잡도 분석  \n",
    "O(nlog2n)"
   ]
  },
  {
   "cell_type": "markdown",
   "metadata": {},
   "source": []
  }
 ],
 "metadata": {
  "language_info": {
   "name": "python"
  }
 },
 "nbformat": 4,
 "nbformat_minor": 2
}
