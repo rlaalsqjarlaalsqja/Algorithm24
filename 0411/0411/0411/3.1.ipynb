{
 "cells": [
  {
   "cell_type": "markdown",
   "metadata": {},
   "source": [
    "## 알고리즘 문제 3.1\n",
    "1. 리스트에 n개의 항목들이 들어 있다. 이들을 키(key)의 순서에 따라 오름차순으로 재배치하라.\n",
    "2. 선택정렬 알고리즘(seletion_sort)은 정렬되지 않은 데이터들에 대해 가장 작은 제이터를 찾아 가장 앞의 데이터와 교환해나가는 방식이다.\n",
    "3. \n",
    "\n",
    "4. def selection_sort(A) - 선택정렬\n",
    " n = len(A) - n 리스트 A의 길이\n",
    " for i in range(n-1) - 외부루프\n",
    " for j in range(i+1, n) - 내부루프\n",
    " if (A[j]<A[least]) - 비교연산\n",
    " least = j - 최소항목 갱신\n",
    " A[i], A[least] = A[least],A[i] - 배열 항목 교환\n",
    " printStep(A, i+1) - 중간 과정 출력용 문장\n",
    " \n"
   ]
  },
  {
   "cell_type": "code",
   "execution_count": null,
   "metadata": {},
   "outputs": [],
   "source": [
    "def selection_sort(A):\n",
    "    n = len(A)\n",
    "    for i in range(n-1):\n",
    "        least = i\n",
    "        for j in range(i+1, n):\n",
    "            if (A[j]<A[least]):\n",
    "                least = j\n",
    "        A[i], A[least] = A[least],A[i]\n",
    "        printStep(A, i+1)"
   ]
  },
  {
   "cell_type": "code",
   "execution_count": null,
   "metadata": {},
   "outputs": [],
   "source": [
    "def printStep(arr, val):\n",
    "    print(\"Step %2d= \" %val, end='')\n",
    "    print(arr)\n",
    "\n",
    "def selection_sort(A):\n",
    "    n = len(A)\n",
    "    for i in range(n-1):\n",
    "        least = 1\n",
    "        for j in range(i+1, n):\n",
    "            if(A[j]<A[least]):\n",
    "                least = j\n",
    "            A[i], A[least] = A[least], A[i]\n",
    "            printStep(A, i+1)\n",
    "data = [5, 3, 8, 4, 9, 1, 6, 2, 7]\n",
    "print(\"Original : \", data)\n",
    "selection_sort(data)\n",
    "print(\"Selection : \", data)\n"
   ]
  },
  {
   "cell_type": "markdown",
   "metadata": {},
   "source": [
    "7.수행결과\n",
    "<img src = \"file:///C:/Users/kmb61/OneDrive/%EB%B0%94%ED%83%95%20%ED%99%94%EB%A9%B4/%EC%95%8C%EA%B3%A0%EB%A6%AC%EC%A6%98/0411.3.1(1).MHT\" width = \"50%\" height = \">\n"
   ]
  },
  {
   "cell_type": "markdown",
   "metadata": {},
   "source": [
    "8. 복잡도 분석\n",
    " 선택정렬의 시간 복잡도는 O(n2)이다.\n",
    "\n",
    "9. 작성자 & 조별 협력 내용\n",
    "코드 오류 뿐아니라 마크다운 및 ipynb 사용하는 것에 대한 것을 습득할 수 있도록 협력하였다."
   ]
  }
 ],
 "metadata": {
  "language_info": {
   "name": "python"
  }
 },
 "nbformat": 4,
 "nbformat_minor": 2
}
