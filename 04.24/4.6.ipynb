{
 "cells": [
  {
   "cell_type": "markdown",
   "metadata": {},
   "source": [
    "6. 셸 정렬(shell sort)은 삽입 정렬이 어느 정도 정렬된 배열에 대해서는 대단히 빠른 것에 착안한 정렬 방법이다. \n",
    "이 정렬 방법을 찾아보고 삽입 정렬과의 차이를 설명해보라\n",
    "\n",
    "삽입 정렬과 셸 정렬의 차이점은 삽입 정렬은 인접한 두개를 비교하여 정렬을 하는 반면,\n",
    " 셸 정렬은 여러 부분의 리스트를 생성하고 간격을 줄여가며 정렬한다. \n",
    " 그렇기 때문에 삽입 정렬보단, 셸 정렬이 더 효일적인 알고리즘이다."
   ]
  },
  {
   "cell_type": "markdown",
   "metadata": {},
   "source": []
  }
 ],
 "metadata": {
  "language_info": {
   "name": "python"
  }
 },
 "nbformat": 4,
 "nbformat_minor": 2
}
