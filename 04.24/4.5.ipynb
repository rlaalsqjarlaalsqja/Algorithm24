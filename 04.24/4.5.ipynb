{
 "cells": [
  {
   "cell_type": "markdown",
   "metadata": {},
   "source": [
    "5. 다음은 삽입 정렬의 변형된 알고리즘이다. "
   ]
  },
  {
   "cell_type": "code",
   "execution_count": null,
   "metadata": {},
   "outputs": [],
   "source": [
    "def insertion_sort2(A):\n",
    "    for i in range(1, len(A)):\n",
    "        key = A[i]\n",
    "        j = i - 1\n",
    "        while j >= 0 and A[j] > key:\n",
    "            A[j + 1] = A[j]\n",
    "            j -= 1\n",
    "        A[j + 1] = key"
   ]
  },
  {
   "cell_type": "markdown",
   "metadata": {},
   "source": [
    "(1) 이 알고리즘을 파이썬으로 구현하라."
   ]
  },
  {
   "cell_type": "code",
   "execution_count": null,
   "metadata": {},
   "outputs": [],
   "source": [
    "def insertion_sort2(A, n):\n",
    "    for i in range(1, n):\n",
    "        key = A[i]\n",
    "        j = i - 1\n",
    "        while j >= 0 and A[j] > key:\n",
    "            A[j], A[j + 1] = A[j + 1], A[j]\n",
    "            j -= 1\n",
    "\n",
    "A = [5, 1, 3, 6, 2, 4]\n",
    "n = len(A)\n",
    "insertion_sort2(A, n)\n",
    "print(\"Sorted array:\", A)\n"
   ]
  },
  {
   "cell_type": "markdown",
   "metadata": {},
   "source": [
    "(2) 이 알고리즘의 효율은 어떨까? 알고리즘 4.3과 비교하여 설명하라.\n",
    "\n",
    "두 알고리즘 모두 insertion sort 알고리즘을 구현하고 있으나 위의 알고리즘은\n",
    "리스트 A 와 리스트 길이 n 을 받아드린다. 4.3 알고리즘은 리스트 A만을 입력으로 받기 때문에 위 알고리즘이 조금 더 효율적이다."
   ]
  }
 ],
 "metadata": {
  "language_info": {
   "name": "python"
  }
 },
 "nbformat": 4,
 "nbformat_minor": 2
}
