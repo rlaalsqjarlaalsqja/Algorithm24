{
 "cells": [
  {
   "cell_type": "markdown",
   "metadata": {},
   "source": [
    "11. 입력으로주어진 문자열에서 A로 시작하고 B로 끝나는 부분의 문자열의 개수를 구하는 문제가 주어졌다.\n",
    "예를 들어 문자열 ADBAAEDBA에는 네개의 부분문자열이 있다. ADBAAEDBA, ADBAAEDBA, ADBAAEDBA, ADBAAEDBA이다."
   ]
  },
  {
   "cell_type": "markdown",
   "metadata": {},
   "source": [
    "(1) 이 문제에 대한 억지 기법 알고리즘을 설계하고, 시간복잡도를 계산하라"
   ]
  },
  {
   "cell_type": "code",
   "execution_count": null,
   "metadata": {},
   "outputs": [],
   "source": [
    "def count_substr(str, A,B):\n",
    "    countn= 0\n",
    "    n=len(str)\n",
    "    for i in range(n-1):\n",
    "        if str[i]=A:\n",
    "            for j in range(i+1,n):\n",
    "                if str[j] = B:\n",
    "                    count += 1\n",
    "    return count"
   ]
  },
  {
   "cell_type": "markdown",
   "metadata": {},
   "source": [
    "시간 복잡도 O(n^)"
   ]
  },
  {
   "cell_type": "markdown",
   "metadata": {},
   "source": [
    "(2) 이 문제에 대한 더 효율적인 알고리즘을 찾아보라"
   ]
  },
  {
   "cell_type": "code",
   "execution_count": null,
   "metadata": {},
   "outputs": [],
   "source": [
    "def compute_square_B(n):\n",
    "    sum = 0\n",
    "    for i in range(n):\n",
    "        sum = sum + n\n",
    "    return sum"
   ]
  },
  {
   "cell_type": "markdown",
   "metadata": {},
   "source": [
    "19. 일 배정 문제에 대한 억지 기법 알고리즘을 파이썬으로 구현하고 간단한 입력에 대해 테스트하라"
   ]
  },
  {
   "cell_type": "code",
   "execution_count": null,
   "metadata": {},
   "outputs": [],
   "source": [
    "import heapq\n",
    "\n",
    "def job_assign_BFBnB(mat):\n",
    "    N = len(mat)\n",
    "    Q = []\n",
    "    bound = calcBound(mat, [])\n",
    "    heapq.heappush(Q, (bound + 0, (0, bound, [])))\n",
    "    \n",
    "    while len(Q) > 0:\n",
    "        total, (cost, bound, jobs) = heapq.heappop(Q)\n",
    "        print(\"현재 노드:\", total, jobs)\n",
    "        \n",
    "        level = len(jobs)\n",
    "        if level == N:\n",
    "            return total, jobs\n",
    "        \n",
    "        for j in range(N):  \n",
    "            if j not in jobs:\n",
    "                jbs = jobs + [j]\n",
    "                cst = cost + mat[level][j]  \n",
    "                bnd = calcBound(mat, jbs)\n",
    "                heapq.heappush(Q, (cst + bnd, (cst, bnd, jbs)))\n",
    "\n",
    "def calcBound(mat, jobs):\n",
    "    N = len(mat)\n",
    "    J = len(jobs)\n",
    "    bound = 0 \n",
    "    INF = float('inf')  \n",
    "    for i in range(J, N):\n",
    "        min_cost = INF\n",
    "        for j in range(N):\n",
    "            if j not in jobs:\n",
    "                if min_cost > mat[i][j]:\n",
    "                    min_cost = mat[i][j]\n",
    "        bound += min_cost\n",
    "    return bound\n",
    "\n",
    "Man2Job = [[9, 2, 6, 8],\n",
    "           [6, 4, 3, 7],\n",
    "           [5, 8, 1, 8],\n",
    "           [7, 6, 9, 4]]\n",
    "total, jobs = job_assign_BFBnB(Man2Job)\n",
    "print(\"배정 결과: \", jobs)\n",
    "print(\"전체 비용: \", total)"
   ]
  }
 ],
 "metadata": {
  "language_info": {
   "name": "python"
  }
 },
 "nbformat": 4,
 "nbformat_minor": 2
}
