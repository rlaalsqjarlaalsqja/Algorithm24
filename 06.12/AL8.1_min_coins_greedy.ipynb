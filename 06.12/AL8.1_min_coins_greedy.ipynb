{
 "cells": [
  {
   "cell_type": "markdown",
   "metadata": {},
   "source": [
    "1. 거스름돈 최소화 알고리즘(탐욕적 기법)"
   ]
  },
  {
   "cell_type": "markdown",
   "metadata": {},
   "source": [
    "2.탐욕적인 해: 액면가가 가장 큰 동전을 사용한다. 남은 잔돈을 가장 작게 만들어 전체 동전의 수를 최소화시킬 가능성이 가장크기 때문이다.\n",
    "\n",
    "\n",
    "가능한 해인지 검사 : 사용한 동전이 잔돈을 초과하지 않아야한다."
   ]
  },
  {
   "cell_type": "markdown",
   "metadata": {},
   "source": [
    "3."
   ]
  },
  {
   "cell_type": "code",
   "execution_count": 1,
   "metadata": {},
   "outputs": [],
   "source": [
    "def min_coins_greedy(coins, V):\n",
    "    count = []\n",
    "    for i in range(len(coins)):\n",
    "        cnt = V // coins[i]\n",
    "        count.append(cnt)\n",
    "        V -= cnt * coins[i]\n",
    "    return count"
   ]
  },
  {
   "cell_type": "code",
   "execution_count": null,
   "metadata": {},
   "outputs": [],
   "source": [
    "coins = [500, 100, 50, 10, 5, 1]\n",
    "V = 500\n",
    "print(\"잔돈 액수 =\", V)\n",
    "print(\"동전 종류 =\", coins)\n",
    "print(\"동전 개수 =\", min_coins_greedy(coins, V))"
   ]
  },
  {
   "cell_type": "code",
   "execution_count": null,
   "metadata": {},
   "outputs": [],
   "source": [
    "def min_coins_greedy(coins, V):\n",
    "    count = []\n",
    "    for i in range(len(coins)):\n",
    "        cnt = V // coins[i]\n",
    "        count.append(cnt)\n",
    "        V -= cnt * coins[i]\n",
    "    return count\n",
    "\n",
    "coins = [500, 100, 50, 10, 5, 1]\n",
    "V = 500\n",
    "print(\"잔돈 액수 =\", V)\n",
    "print(\"동전 종류 =\", coins)\n",
    "print(\"동전 개수 =\", min_coins_greedy(coins, V))\n"
   ]
  },
  {
   "cell_type": "markdown",
   "metadata": {},
   "source": [
    "![poster](./화면%20캡처%202024-06-12%20잔돈.png)"
   ]
  },
  {
   "cell_type": "markdown",
   "metadata": {},
   "source": [
    "8. 시간복잡도\n",
    "\n",
    "O(m)"
   ]
  }
 ],
 "metadata": {
  "kernelspec": {
   "display_name": "Python 3",
   "language": "python",
   "name": "python3"
  },
  "language_info": {
   "codemirror_mode": {
    "name": "ipython",
    "version": 3
   },
   "file_extension": ".py",
   "mimetype": "text/x-python",
   "name": "python",
   "nbconvert_exporter": "python",
   "pygments_lexer": "ipython3",
   "version": "3.9.7"
  }
 },
 "nbformat": 4,
 "nbformat_minor": 2
}
