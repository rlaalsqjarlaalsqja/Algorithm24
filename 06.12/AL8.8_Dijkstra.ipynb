{
 "cells": [
  {
   "cell_type": "markdown",
   "metadata": {},
   "source": [
    "Dijkstra의 최단경로 알고리즘"
   ]
  },
  {
   "cell_type": "markdown",
   "metadata": {},
   "source": [
    "dist 배열은 시작 정점에서 각 정점까지의 현재 알려진 최단 거리를 저장합니다. 초기에는 시작 정점에서 출발할 때의 거리를 기준으로 초기화합니다  \n",
    "path 배열은 최단 경로의 직전 정점을 저장합니다  \n",
    "found 배열은 각 정점의 방문 여부를 저장합니다\n",
    "(시작 정점의 거리는 0으로 설정하고 시작 정점은 방문한 것으로 표시합니다.)  \n",
    "getMinVertex 함수를 사용하여 아직 방문하지 않은 정점 중에서 최단 거리를 가진 정점을 선택합니다  \n",
    "선택된 정점을 방문한 것으로 표시하고 그 정점에서 갈 수 있는 모든 인접한 정점의 거리를 업데이트합니다  \n",
    "만약 선택된 정점을 통해 다른 정점으로 가는 것이 더 짧은 경로라면 해당 정점의 거리를 업데이트하고 경로를 갱신합니다  \n",
    "모든 정점을 방문할 때까지 위의 과정을 반복합니다  \n",
    "최종적으로 dist 배열에는 시작 정점에서 각 정점까지의 최단 거리가 path 배열에는 최단 경로의 직전 정점이 저장됩니다"
   ]
  },
  {
   "cell_type": "markdown",
   "metadata": {},
   "source": [
    "![poster](./6.6손.jpg)"
   ]
  },
  {
   "cell_type": "markdown",
   "metadata": {},
   "source": [
    "입력  \n",
    "vtx: 정점 리스트   \n",
    "adj: 인접 행렬 정점 간의 거리를 나타내는 2차원 리스트  \n",
    "start: 시작 정점의 인덱스  \n",
    "출력  \n",
    "path: 시작 정점에서 각 정점까지의 최단 경로 상의 직전 정점을 나타내는 리스트  \n",
    "dist: 시작 정점에서 각 정점까지의 최단 거리를 나타내는 리스트  \n",
    "함수 설명  \n",
    "getMinVertex(dist, found) : 방문하지 않은 정점 중에서 현재까지 알려진 최단 거리가 가장 작은 정점을 찾습니다.  \n",
    "shortest_path_dijkstra(vtx, adj, start) : 다익스트라 알고리즘을 사용하여 시작 정점에서 다른 모든 정점까지의 최단 경로를 찾습니다.\n"
   ]
  },
  {
   "cell_type": "code",
   "execution_count": null,
   "metadata": {},
   "outputs": [],
   "source": [
    "def shortest_path_dijkstra(vtx, adj, start):\n",
    "    vsize = len(vtx)\n",
    "    dist = list(adj[start])\n",
    "    dist[start] = 0\n",
    "    path = [start] * vsize\n",
    "    found= [False] * vsize\n",
    "    found[start] = True\n",
    "    \n",
    "    for i in range(vsize):\n",
    "        print(\"Step%2d: \"%(i+1),dist)\n",
    "        u = getMinVertex(dist, found)\n",
    "        found[u] = True\n",
    "    \n",
    "    for w in range(vsize):\n",
    "        if not found[w]:\n",
    "            if dist[u] + adj[u][w] < dist[w]:\n",
    "                dist[w] = dist[u] + adj[u][w]\n",
    "                path[w] = u\n",
    "\n",
    "    return path"
   ]
  },
  {
   "cell_type": "code",
   "execution_count": null,
   "metadata": {},
   "outputs": [],
   "source": [
    "import sys\n",
    "\n",
    "def getMinVertex(dist, found):\n",
    "    min_dist = sys.maxsize\n",
    "    min_vertex = -1\n",
    "    \n",
    "    for v in range(len(dist)):\n",
    "        if not found[v] and dist[v] < min_dist:\n",
    "            min_dist = dist[v]\n",
    "            min_vertex = v\n",
    "    return min_vertex\n",
    "\n",
    "def shortest_path_dijkstra(vtx, adj, start):\n",
    "    vsize = len(vtx)\n",
    "    dist = list(adj[start])\n",
    "    dist[start] = 0\n",
    "    path = [start] * vsize\n",
    "    found = [False] * vsize\n",
    "    found[start] = True\n",
    "    \n",
    "    for i in range(vsize - 1):  \n",
    "        print(\"Step%2d: \" % (i+1), dist)\n",
    "        u = getMinVertex(dist, found)\n",
    "        found[u] = True\n",
    "        \n",
    "        for w in range(vsize):\n",
    "            if not found[w]:\n",
    "                if dist[u] + adj[u][w] < dist[w]:\n",
    "                    dist[w] = dist[u] + adj[u][w]\n",
    "                    path[w] = u\n",
    "\n",
    "    return path, dist\n",
    "\n",
    "vtx = ['A', 'B', 'C', 'D', 'E']\n",
    "adj = [\n",
    "    [0, 10, 3, sys.maxsize, sys.maxsize],\n",
    "    [10, 0, 1, 2, sys.maxsize],\n",
    "    [3, 1, 0, 8, 2],\n",
    "    [sys.maxsize, 2, 8, 0, 7],\n",
    "    [sys.maxsize, sys.maxsize, 2, 7, 0]\n",
    "]\n",
    "\n",
    "start = 0  \n",
    "\n",
    "path, dist = shortest_path_dijkstra(vtx, adj, start)\n",
    "print(\"최단 경로: \", path)\n",
    "print(\"최단 거리: \", dist)\n"
   ]
  },
  {
   "cell_type": "markdown",
   "metadata": {},
   "source": [
    "![poster](./6.6%20결과.png)"
   ]
  },
  {
   "cell_type": "markdown",
   "metadata": {},
   "source": [
    "복잡도 = O(1)"
   ]
  }
 ],
 "metadata": {
  "language_info": {
   "name": "python"
  }
 },
 "nbformat": 4,
 "nbformat_minor": 2
}
