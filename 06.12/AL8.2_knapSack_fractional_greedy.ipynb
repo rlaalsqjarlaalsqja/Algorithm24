{
 "cells": [
  {
   "cell_type": "markdown",
   "metadata": {},
   "source": [
    "1. 분할 가능한 배낭 채우기(탐욕적 기법)"
   ]
  },
  {
   "cell_type": "markdown",
   "metadata": {},
   "source": [
    "2. 탐욕적인 해: 무게당 가격이 비싼 물건부터 순서대로 배낭의 남은 용량을 넘지 않는 최대한으로 채운다.\n",
    "\n",
    "가능한 해인지 검사 : 배낭의 용량을 넘치지만 않으면 이 탐욕적 부분해는 항상 가능한 해이다."
   ]
  },
  {
   "cell_type": "markdown",
   "metadata": {},
   "source": [
    "3. ![poster](./knapSack.jpg)"
   ]
  },
  {
   "cell_type": "code",
   "execution_count": null,
   "metadata": {},
   "outputs": [],
   "source": [
    "def knapSack_fractional_greedy(obj, W):\n",
    "    obj.sort(key = lambda o: o[2]/o[1], reverse=True)\n",
    "    \n",
    "    totalValue = 0\n",
    "    for o in obj:\n",
    "        if W <= 0 : break\n",
    "        if W - o[1] >= 0:\n",
    "            W -= o[1]\n",
    "            totalValue += o[2]\n",
    "        else:\n",
    "            fraction = W / o[1]\n",
    "            totalValue += o[2] * fraction\n",
    "            W = int(W - (o[1] * fraction))\n",
    "            \n",
    "    return totalValue"
   ]
  },
  {
   "cell_type": "code",
   "execution_count": null,
   "metadata": {},
   "outputs": [],
   "source": [
    "obj = [(\"A\", 10, 80), (\"B\", 12, 120), (\"C\", 8, 60)]\n",
    "print(\"W = 50\", obj)\n",
    "print(\"부분적인배낭(18): \", knapSack_fractional_greedy(obj,18), end='\\n\\n')\n",
    "\n",
    "obj = [(\"A\", 10, 60), (\"B\", 40, 40), (\"C\", 20, 100), (\"D\", 30, 120)]\n",
    "print(\"W = 50\", obj)\n",
    "print(\"부분적인배낭(50): \", knapSack_fractional_greedy(obj, 50))"
   ]
  },
  {
   "cell_type": "code",
   "execution_count": null,
   "metadata": {},
   "outputs": [],
   "source": [
    "def knapSack_fractional_greedy(obj, W):\n",
    "    obj.sort(key = lambda o: o[2]/o[1], reverse=True)\n",
    "    \n",
    "    totalValue = 0\n",
    "    for o in obj:\n",
    "        if W <= 0 : break\n",
    "        if W - o[1] >= 0:\n",
    "            W -= o[1]\n",
    "            totalValue += o[2]\n",
    "        else:\n",
    "            fraction = W / o[1]\n",
    "            totalValue += o[2] * fraction\n",
    "            W = int(W - (o[1] * fraction))\n",
    "            \n",
    "    return totalValue\n",
    "\n",
    "obj = [(\"A\", 10, 80), (\"B\", 12, 120), (\"C\", 8, 60)]\n",
    "print(\"W = 50\", obj)\n",
    "print(\"부분적인배낭(18): \", knapSack_fractional_greedy(obj,18), end='\\n\\n')\n",
    "\n",
    "obj = [(\"A\", 10, 60), (\"B\", 40, 40), (\"C\", 20, 100), (\"D\", 30, 120)]\n",
    "print(\"W = 50\", obj)\n",
    "print(\"부분적인배낭(50): \", knapSack_fractional_greedy(obj, 50))"
   ]
  },
  {
   "cell_type": "markdown",
   "metadata": {},
   "source": [
    "![poster](./화면%20캡처%202024-06-12%20배낭.png)"
   ]
  },
  {
   "cell_type": "markdown",
   "metadata": {},
   "source": [
    "8. 시간복잡도\n",
    "\n",
    "O(nlog2n)"
   ]
  },
  {
   "cell_type": "markdown",
   "metadata": {},
   "source": []
  }
 ],
 "metadata": {
  "language_info": {
   "name": "python"
  }
 },
 "nbformat": 4,
 "nbformat_minor": 2
}
