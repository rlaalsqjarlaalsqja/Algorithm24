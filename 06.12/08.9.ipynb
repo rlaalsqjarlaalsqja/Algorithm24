{
 "cells": [
  {
   "cell_type": "markdown",
   "metadata": {},
   "source": [
    "# 1. 문제정의\n",
    "허프만 틀 생성 알고리즘"
   ]
  },
  {
   "cell_type": "markdown",
   "metadata": {},
   "source": [
    "# 2. 알고리즘 설명\n",
    "1. 힙에 모든 빈도, 문자를 넣는다.\n",
    "2. n-1번 반복하면 허프만 트리가 만들어진다\n",
    "3. 우선순위가 가장 높은 두 개의 엔트리르 껀내다.\n",
    "4. 엔트리르 병합하여 다시 힙에 삽입한다."
   ]
  },
  {
   "cell_type": "markdown",
   "metadata": {},
   "source": [
    "# 3. 손으로 푼 예제\n",
    "![poster](./08_9.png)"
   ]
  },
  {
   "cell_type": "markdown",
   "metadata": {},
   "source": [
    "# 4. 알고리즘 개요\n",
    "1. 우선순위 큐 모듈을 임포트한다.\n",
    "2. 힙에 모든 빈도, 문자를 넣는다\n",
    "3. 우선순위가 가장 높은 두 개의 엔트리 e1, e2를 꺼낸다.\n",
    "4. e1, e2를 다시 병합하여 힙에 넣는다.\n",
    "5. 최정적으로 하ㅏ의 루트 노드만 남아있는데 이를 출력한다."
   ]
  },
  {
   "cell_type": "code",
   "execution_count": 4,
   "metadata": {},
   "outputs": [],
   "source": [
    "import heapq\n",
    "def make_heap_tree(freq, label) :\n",
    "    n = len(freq)\n",
    "    h = []\n",
    "    for i in range(n) :\n",
    "        heapq.heappush(h, (freq[i], label[i]))\n",
    "\n",
    "    for i in range(i, n) :\n",
    "        e1 = heapq.heappush(h)\n",
    "        e2 = heapq.heappush(h)\n",
    "        heapq.heappush(h, (e1[0] + e2[0], e1[1] + e2[1]))\n",
    "        print(e1, \"+\", e2)\n",
    "\n",
    "    print(heapq.heappush(h))"
   ]
  },
  {
   "cell_type": "code",
   "execution_count": null,
   "metadata": {},
   "outputs": [],
   "source": [
    "import heapq\n",
    "\n",
    "def make_heap_tree(freq, label) :\n",
    "    n = len(freq)\n",
    "    h = []\n",
    "    for i in range(n) :\n",
    "        heapq.heappush(h, (freq[i], label[i]))\n",
    "\n",
    "    for i in range(1, n) :\n",
    "        e1 = heapq.heappop(h)\n",
    "        e2 = heapq.heappop(h)\n",
    "        heapq.heappush(h, (e1[0] + e2[0], e1[1] + e2[1]))\n",
    "        print(e1, \"+\", e2)\n",
    "\n",
    "    print(heapq.heappop(h))\n",
    "\n",
    "label = [\"A\", \"B\", \"C\", \"D\", \"E\", \"F\", \"G\", \"H\"]\n",
    "freq = [24, 3, 8, 10, 33, 6, 4, 12]\n",
    "make_heap_tree(freq, label)"
   ]
  },
  {
   "cell_type": "markdown",
   "metadata": {},
   "source": [
    "# 7. 수행결과\n",
    "![poster](./08_9_re.png)"
   ]
  },
  {
   "cell_type": "markdown",
   "metadata": {},
   "source": [
    "# 8. 복잡도\n",
    "O(nlogn)"
   ]
  }
 ],
 "metadata": {
  "kernelspec": {
   "display_name": "base",
   "language": "python",
   "name": "python3"
  },
  "language_info": {
   "codemirror_mode": {
    "name": "ipython",
    "version": 3
   },
   "file_extension": ".py",
   "mimetype": "text/x-python",
   "name": "python",
   "nbconvert_exporter": "python",
   "pygments_lexer": "ipython3",
   "version": "3.11.7"
  }
 },
 "nbformat": 4,
 "nbformat_minor": 2
}
